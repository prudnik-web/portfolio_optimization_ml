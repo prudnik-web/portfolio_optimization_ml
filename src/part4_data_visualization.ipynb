{
 "cells": [
  {
   "cell_type": "markdown",
   "metadata": {},
   "source": [
    "This part can be very demanding to computing power, and if you have lots of simulations (like several mln.) or if you have lots of stocks in portfolio - then it is going to take a lot of time to be rendered. "
   ]
  },
  {
   "cell_type": "markdown",
   "metadata": {},
   "source": [
    "# Part 4. Visualization"
   ]
  },
  {
   "cell_type": "markdown",
   "metadata": {},
   "source": [
    "Import libraries"
   ]
  },
  {
   "cell_type": "code",
   "execution_count": null,
   "metadata": {},
   "outputs": [],
   "source": [
    "from read_write_csv import read_csv, read_json\n",
    "from charts_logic import plot_prices_graph, plot_histogram, plot_scatter, pie_chart, treemap_chart, treemap_forecast_chart"
   ]
  },
  {
   "cell_type": "markdown",
   "metadata": {},
   "source": [
    "## Part 4.1. Historical Data"
   ]
  },
  {
   "cell_type": "markdown",
   "metadata": {},
   "source": [
    "### Part 4.1.1. Average Stock Prices _Line Chart_"
   ]
  },
  {
   "cell_type": "code",
   "execution_count": null,
   "metadata": {},
   "outputs": [],
   "source": [
    "df = read_csv('historical_data.csv')\n",
    "df['Average Price For All Stocks'] = df.mean(axis=1)\n",
    "fig = plot_prices_graph(df)\n",
    "fig.show()"
   ]
  },
  {
   "cell_type": "markdown",
   "metadata": {},
   "source": [
    "### Part 4.1.2. Average Returns _Histogram_"
   ]
  },
  {
   "cell_type": "code",
   "execution_count": null,
   "metadata": {},
   "outputs": [],
   "source": [
    "df = read_csv('avg_returns.csv').dropna()\n",
    "fig = plot_histogram(df)\n",
    "fig.show()"
   ]
  },
  {
   "cell_type": "markdown",
   "metadata": {},
   "source": [
    "### <mark>Part 4.1.3. Efficient Frontier _Scatter Plot_</mark>"
   ]
  },
  {
   "cell_type": "code",
   "execution_count": null,
   "metadata": {},
   "outputs": [],
   "source": [
    "data = read_json('monte_carlo_data.json')\n",
    "fig = plot_scatter(data)\n",
    "fig.show()"
   ]
  },
  {
   "cell_type": "markdown",
   "metadata": {},
   "source": [
    "### Part 4.1.4. Portfolio Allocation _Treemap Chart_"
   ]
  },
  {
   "cell_type": "markdown",
   "metadata": {},
   "source": [
    "We would use clasic kind of chart, which is a pie chart, but that isn't representative in terms of large numbers of stocks, so that is why we will use treemap chart here. Anyway, you can call pie_chart function instead of treemap_chart if you wish"
   ]
  },
  {
   "cell_type": "code",
   "execution_count": null,
   "metadata": {},
   "outputs": [],
   "source": [
    "data = read_json('monte_carlo_data.json')\n",
    "fig = treemap_chart(data, 0.015)\n",
    "fig.show()"
   ]
  },
  {
   "cell_type": "markdown",
   "metadata": {},
   "source": [
    "## Part 4.2. Forecasted data"
   ]
  },
  {
   "cell_type": "markdown",
   "metadata": {},
   "source": [
    "### Part 4.2.1. Average Stock Prices _Line Chart_"
   ]
  },
  {
   "cell_type": "code",
   "execution_count": null,
   "metadata": {},
   "outputs": [],
   "source": [
    "df = read_csv('forecasted_data.csv')\n",
    "df['Average Price For All Stocks'] = df.mean(axis=1)\n",
    "fig = plot_prices_graph(df)\n",
    "fig.show()"
   ]
  },
  {
   "cell_type": "markdown",
   "metadata": {},
   "source": [
    "## Part 4.3. Treemap + forecasted data"
   ]
  },
  {
   "cell_type": "markdown",
   "metadata": {},
   "source": [
    "The treemap offers a snapshot of how your portfolio is distributed and what the forecasted performance looks like. The size of each block shows how much weight a stock has in your portfolio, while the color indicates its expected return—green for better performance and red for weaker outcomes. If a stock is forecasted to perform well but has a small weight, it might be worth increasing its allocation. Conversely, if a stock has a large weight but is expected to underperform, it could be time to reduce its presence. The “Others” section groups smaller allocations, which might signal an over-diversified portfolio that could benefit from more focus. Overall, this chart helps pinpoint areas for potential rebalancing to align with expected returns and improve the portfolio's efficiency."
   ]
  },
  {
   "cell_type": "code",
   "execution_count": null,
   "metadata": {},
   "outputs": [],
   "source": [
    "df = read_csv('forecasted_data.csv')\n",
    "weights = read_json('monte_carlo_data.json')['all_weights']\n",
    "fig = treemap_forecast_chart(df, weights, 0.015)\n",
    "fig.show()"
   ]
  }
 ],
 "metadata": {
  "kernelspec": {
   "display_name": ".venv",
   "language": "python",
   "name": "python3"
  },
  "language_info": {
   "codemirror_mode": {
    "name": "ipython",
    "version": 3
   },
   "file_extension": ".py",
   "mimetype": "text/x-python",
   "name": "python",
   "nbconvert_exporter": "python",
   "pygments_lexer": "ipython3",
   "version": "3.12.6"
  }
 },
 "nbformat": 4,
 "nbformat_minor": 2
}
