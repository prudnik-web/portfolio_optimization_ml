{
 "cells": [
  {
   "cell_type": "markdown",
   "metadata": {},
   "source": [
    "Take into account that those parts highlighted with yellow are quite time-consuming."
   ]
  },
  {
   "cell_type": "markdown",
   "metadata": {},
   "source": [
    "## Part 1. Data Scraper"
   ]
  },
  {
   "cell_type": "markdown",
   "metadata": {},
   "source": [
    "## Part 1.1. Getting Raw Data"
   ]
  },
  {
   "cell_type": "markdown",
   "metadata": {},
   "source": [
    "### Part 1.1.1. Importing Libraries"
   ]
  },
  {
   "cell_type": "markdown",
   "metadata": {},
   "source": [
    "Import necessary libs"
   ]
  },
  {
   "cell_type": "code",
   "execution_count": null,
   "metadata": {},
   "outputs": [],
   "source": [
    "import pandas as pd\n",
    "\n",
    "import yfinance as yf\n",
    "from pytickersymbols import PyTickerSymbols\n",
    "\n",
    "from read_write_csv import save_csv"
   ]
  },
  {
   "cell_type": "markdown",
   "metadata": {},
   "source": [
    "### <mark>Part 1.1.2. Scraping Raw Data</mark> "
   ]
  },
  {
   "cell_type": "markdown",
   "metadata": {},
   "source": [
    "The logic for scraper"
   ]
  },
  {
   "cell_type": "code",
   "execution_count": 2,
   "metadata": {},
   "outputs": [
    {
     "name": "stderr",
     "output_type": "stream",
     "text": [
      "[*********************100%***********************]  538 of 538 completed\n",
      "\n",
      "37 Failed downloads:\n",
      "['HRS', 'SIVB', 'CNP-PB', 'BLL', 'MNSLV', 'WLTW', 'ABMD', 'HBANN', 'KIM-PI', 'RE', 'RF-PB', 'DISH', 'ABC', 'FRC', 'WRK', 'GS-PK', 'FLT', 'XON', 'CDAY', 'BOAPL', 'ATVI', 'UHID', 'K-WI', 'FBHS', 'PBSTV', 'PEAK', 'PXD', 'PKI']: YFPricesMissingError('$%ticker%: possibly delisted; no price data found  (period=10y) (Yahoo error = \"No data found, symbol may be delisted\")')\n",
      "['HCP', 'PARAA', 'CEG', 'OGN', 'OTIS', 'CARR', 'NEEXU']: YFInvalidPeriodError(\"%ticker%: Period '10y' is invalid, must be one of ['1d', '5d', '1mo', '3mo', '6mo', '1y', '2y', '5y', 'ytd', 'max']\")\n",
      "['SBNY']: YFInvalidPeriodError(\"%ticker%: Period '10y' is invalid, must be one of ['1d', '5d', '1mo', '3mo', '6mo', 'ytd', 'max']\")\n",
      "['FISV']: YFInvalidPeriodError(\"%ticker%: Period '10y' is invalid, must be one of ['1d', '5d', '1mo', '3mo', '6mo', '1y', '2y', 'ytd', 'max']\")\n"
     ]
    }
   ],
   "source": [
    "stock_data = PyTickerSymbols()\n",
    "sp500_yahoo_tickers_list = stock_data.get_sp_500_nyc_yahoo_tickers()  # Get list of tickers for all SP500 stocks \n",
    "\n",
    "data = yf.download(  # let's scrape stocks data from yfinance for 5y period, inserting list with tickers\n",
    "sp500_yahoo_tickers_list, period='10y', keepna=False\n",
    ")\n",
    "\n",
    "df = pd.DataFrame(  # let's make a dataframe out of scraped data, choosing only adj close prices\n",
    "    data.iloc[:, data.columns.get_level_values(0)=='Adj Close']\n",
    "    )"
   ]
  },
  {
   "cell_type": "markdown",
   "metadata": {},
   "source": [
    "### Part 1.1.3. Overview"
   ]
  },
  {
   "cell_type": "markdown",
   "metadata": {},
   "source": [
    "Let us check what we got at this point"
   ]
  },
  {
   "cell_type": "code",
   "execution_count": 3,
   "metadata": {},
   "outputs": [
    {
     "data": {
      "text/html": [
       "<div>\n",
       "<style scoped>\n",
       "    .dataframe tbody tr th:only-of-type {\n",
       "        vertical-align: middle;\n",
       "    }\n",
       "\n",
       "    .dataframe tbody tr th {\n",
       "        vertical-align: top;\n",
       "    }\n",
       "\n",
       "    .dataframe thead tr th {\n",
       "        text-align: left;\n",
       "    }\n",
       "</style>\n",
       "<table border=\"1\" class=\"dataframe\">\n",
       "  <thead>\n",
       "    <tr>\n",
       "      <th>Price</th>\n",
       "      <th colspan=\"21\" halign=\"left\">Adj Close</th>\n",
       "    </tr>\n",
       "    <tr>\n",
       "      <th>Ticker</th>\n",
       "      <th>0P0000KQL0</th>\n",
       "      <th>0P0001I1JH</th>\n",
       "      <th>A</th>\n",
       "      <th>AAL</th>\n",
       "      <th>AAP</th>\n",
       "      <th>AAPL</th>\n",
       "      <th>ABBV</th>\n",
       "      <th>ABC</th>\n",
       "      <th>ABMD</th>\n",
       "      <th>ABT</th>\n",
       "      <th>...</th>\n",
       "      <th>XEL</th>\n",
       "      <th>XOM</th>\n",
       "      <th>XON</th>\n",
       "      <th>XRAY</th>\n",
       "      <th>XYL</th>\n",
       "      <th>YUM</th>\n",
       "      <th>ZBH</th>\n",
       "      <th>ZBRA</th>\n",
       "      <th>ZION</th>\n",
       "      <th>ZTS</th>\n",
       "    </tr>\n",
       "  </thead>\n",
       "  <tbody>\n",
       "    <tr>\n",
       "      <th>count</th>\n",
       "      <td>1434.000000</td>\n",
       "      <td>1434.000000</td>\n",
       "      <td>2517.000000</td>\n",
       "      <td>2517.000000</td>\n",
       "      <td>2517.000000</td>\n",
       "      <td>2517.000000</td>\n",
       "      <td>2517.000000</td>\n",
       "      <td>0.0</td>\n",
       "      <td>0.0</td>\n",
       "      <td>2517.000000</td>\n",
       "      <td>...</td>\n",
       "      <td>2517.000000</td>\n",
       "      <td>2517.000000</td>\n",
       "      <td>0.0</td>\n",
       "      <td>2517.000000</td>\n",
       "      <td>2517.000000</td>\n",
       "      <td>2517.000000</td>\n",
       "      <td>2517.000000</td>\n",
       "      <td>2517.000000</td>\n",
       "      <td>2517.000000</td>\n",
       "      <td>2517.000000</td>\n",
       "    </tr>\n",
       "    <tr>\n",
       "      <th>mean</th>\n",
       "      <td>2.048117</td>\n",
       "      <td>2.087138</td>\n",
       "      <td>88.756119</td>\n",
       "      <td>27.945144</td>\n",
       "      <td>131.378494</td>\n",
       "      <td>92.384616</td>\n",
       "      <td>88.792928</td>\n",
       "      <td>NaN</td>\n",
       "      <td>NaN</td>\n",
       "      <td>76.214976</td>\n",
       "      <td>...</td>\n",
       "      <td>48.231286</td>\n",
       "      <td>66.775741</td>\n",
       "      <td>NaN</td>\n",
       "      <td>45.618223</td>\n",
       "      <td>76.444332</td>\n",
       "      <td>89.977027</td>\n",
       "      <td>115.963495</td>\n",
       "      <td>230.650095</td>\n",
       "      <td>36.991373</td>\n",
       "      <td>116.328325</td>\n",
       "    </tr>\n",
       "    <tr>\n",
       "      <th>std</th>\n",
       "      <td>0.221826</td>\n",
       "      <td>0.225107</td>\n",
       "      <td>40.293001</td>\n",
       "      <td>13.388271</td>\n",
       "      <td>41.063960</td>\n",
       "      <td>64.475861</td>\n",
       "      <td>43.802411</td>\n",
       "      <td>NaN</td>\n",
       "      <td>NaN</td>\n",
       "      <td>30.538865</td>\n",
       "      <td>...</td>\n",
       "      <td>13.741923</td>\n",
       "      <td>23.427996</td>\n",
       "      <td>NaN</td>\n",
       "      <td>10.558341</td>\n",
       "      <td>30.768412</td>\n",
       "      <td>29.955871</td>\n",
       "      <td>16.206040</td>\n",
       "      <td>140.109513</td>\n",
       "      <td>10.998845</td>\n",
       "      <td>56.333974</td>\n",
       "    </tr>\n",
       "    <tr>\n",
       "      <th>min</th>\n",
       "      <td>1.365500</td>\n",
       "      <td>1.385500</td>\n",
       "      <td>31.031214</td>\n",
       "      <td>9.040000</td>\n",
       "      <td>35.689999</td>\n",
       "      <td>20.697269</td>\n",
       "      <td>32.962017</td>\n",
       "      <td>NaN</td>\n",
       "      <td>NaN</td>\n",
       "      <td>30.864788</td>\n",
       "      <td>...</td>\n",
       "      <td>23.955330</td>\n",
       "      <td>25.031288</td>\n",
       "      <td>NaN</td>\n",
       "      <td>17.260000</td>\n",
       "      <td>27.042645</td>\n",
       "      <td>40.126244</td>\n",
       "      <td>75.456177</td>\n",
       "      <td>46.930000</td>\n",
       "      <td>15.628467</td>\n",
       "      <td>36.925087</td>\n",
       "    </tr>\n",
       "    <tr>\n",
       "      <th>25%</th>\n",
       "      <td>1.897600</td>\n",
       "      <td>1.940325</td>\n",
       "      <td>55.954002</td>\n",
       "      <td>14.670000</td>\n",
       "      <td>107.788757</td>\n",
       "      <td>34.155132</td>\n",
       "      <td>48.644257</td>\n",
       "      <td>NaN</td>\n",
       "      <td>NaN</td>\n",
       "      <td>42.275589</td>\n",
       "      <td>...</td>\n",
       "      <td>35.726334</td>\n",
       "      <td>54.053425</td>\n",
       "      <td>NaN</td>\n",
       "      <td>36.444599</td>\n",
       "      <td>48.644886</td>\n",
       "      <td>62.214317</td>\n",
       "      <td>105.209770</td>\n",
       "      <td>104.410004</td>\n",
       "      <td>27.387794</td>\n",
       "      <td>57.855518</td>\n",
       "    </tr>\n",
       "    <tr>\n",
       "      <th>50%</th>\n",
       "      <td>2.037350</td>\n",
       "      <td>2.075960</td>\n",
       "      <td>75.648575</td>\n",
       "      <td>27.388784</td>\n",
       "      <td>138.948288</td>\n",
       "      <td>62.786938</td>\n",
       "      <td>72.829781</td>\n",
       "      <td>NaN</td>\n",
       "      <td>NaN</td>\n",
       "      <td>77.427391</td>\n",
       "      <td>...</td>\n",
       "      <td>52.689938</td>\n",
       "      <td>58.233849</td>\n",
       "      <td>NaN</td>\n",
       "      <td>47.532429</td>\n",
       "      <td>73.231926</td>\n",
       "      <td>89.732719</td>\n",
       "      <td>113.299126</td>\n",
       "      <td>211.399994</td>\n",
       "      <td>37.348949</td>\n",
       "      <td>120.481628</td>\n",
       "    </tr>\n",
       "    <tr>\n",
       "      <th>75%</th>\n",
       "      <td>2.188475</td>\n",
       "      <td>2.230000</td>\n",
       "      <td>129.002914</td>\n",
       "      <td>40.008011</td>\n",
       "      <td>151.840866</td>\n",
       "      <td>149.165283</td>\n",
       "      <td>130.198578</td>\n",
       "      <td>NaN</td>\n",
       "      <td>NaN</td>\n",
       "      <td>104.471436</td>\n",
       "      <td>...</td>\n",
       "      <td>60.203667</td>\n",
       "      <td>79.988983</td>\n",
       "      <td>NaN</td>\n",
       "      <td>54.421982</td>\n",
       "      <td>100.557396</td>\n",
       "      <td>117.584152</td>\n",
       "      <td>125.037384</td>\n",
       "      <td>302.769989</td>\n",
       "      <td>44.652092</td>\n",
       "      <td>167.719940</td>\n",
       "    </tr>\n",
       "    <tr>\n",
       "      <th>max</th>\n",
       "      <td>2.615000</td>\n",
       "      <td>2.665100</td>\n",
       "      <td>175.479584</td>\n",
       "      <td>56.988728</td>\n",
       "      <td>224.340866</td>\n",
       "      <td>237.330002</td>\n",
       "      <td>203.869995</td>\n",
       "      <td>NaN</td>\n",
       "      <td>NaN</td>\n",
       "      <td>133.728104</td>\n",
       "      <td>...</td>\n",
       "      <td>72.919998</td>\n",
       "      <td>124.348221</td>\n",
       "      <td>NaN</td>\n",
       "      <td>65.587769</td>\n",
       "      <td>144.777924</td>\n",
       "      <td>141.782349</td>\n",
       "      <td>168.737976</td>\n",
       "      <td>614.549988</td>\n",
       "      <td>66.437309</td>\n",
       "      <td>240.630768</td>\n",
       "    </tr>\n",
       "  </tbody>\n",
       "</table>\n",
       "<p>8 rows × 538 columns</p>\n",
       "</div>"
      ],
      "text/plain": [
       "Price     Adj Close                                                      \\\n",
       "Ticker   0P0000KQL0   0P0001I1JH            A          AAL          AAP   \n",
       "count   1434.000000  1434.000000  2517.000000  2517.000000  2517.000000   \n",
       "mean       2.048117     2.087138    88.756119    27.945144   131.378494   \n",
       "std        0.221826     0.225107    40.293001    13.388271    41.063960   \n",
       "min        1.365500     1.385500    31.031214     9.040000    35.689999   \n",
       "25%        1.897600     1.940325    55.954002    14.670000   107.788757   \n",
       "50%        2.037350     2.075960    75.648575    27.388784   138.948288   \n",
       "75%        2.188475     2.230000   129.002914    40.008011   151.840866   \n",
       "max        2.615000     2.665100   175.479584    56.988728   224.340866   \n",
       "\n",
       "Price                                                    ...               \\\n",
       "Ticker         AAPL         ABBV  ABC ABMD          ABT  ...          XEL   \n",
       "count   2517.000000  2517.000000  0.0  0.0  2517.000000  ...  2517.000000   \n",
       "mean      92.384616    88.792928  NaN  NaN    76.214976  ...    48.231286   \n",
       "std       64.475861    43.802411  NaN  NaN    30.538865  ...    13.741923   \n",
       "min       20.697269    32.962017  NaN  NaN    30.864788  ...    23.955330   \n",
       "25%       34.155132    48.644257  NaN  NaN    42.275589  ...    35.726334   \n",
       "50%       62.786938    72.829781  NaN  NaN    77.427391  ...    52.689938   \n",
       "75%      149.165283   130.198578  NaN  NaN   104.471436  ...    60.203667   \n",
       "max      237.330002   203.869995  NaN  NaN   133.728104  ...    72.919998   \n",
       "\n",
       "Price                                                                         \\\n",
       "Ticker          XOM  XON         XRAY          XYL          YUM          ZBH   \n",
       "count   2517.000000  0.0  2517.000000  2517.000000  2517.000000  2517.000000   \n",
       "mean      66.775741  NaN    45.618223    76.444332    89.977027   115.963495   \n",
       "std       23.427996  NaN    10.558341    30.768412    29.955871    16.206040   \n",
       "min       25.031288  NaN    17.260000    27.042645    40.126244    75.456177   \n",
       "25%       54.053425  NaN    36.444599    48.644886    62.214317   105.209770   \n",
       "50%       58.233849  NaN    47.532429    73.231926    89.732719   113.299126   \n",
       "75%       79.988983  NaN    54.421982   100.557396   117.584152   125.037384   \n",
       "max      124.348221  NaN    65.587769   144.777924   141.782349   168.737976   \n",
       "\n",
       "Price                                          \n",
       "Ticker         ZBRA         ZION          ZTS  \n",
       "count   2517.000000  2517.000000  2517.000000  \n",
       "mean     230.650095    36.991373   116.328325  \n",
       "std      140.109513    10.998845    56.333974  \n",
       "min       46.930000    15.628467    36.925087  \n",
       "25%      104.410004    27.387794    57.855518  \n",
       "50%      211.399994    37.348949   120.481628  \n",
       "75%      302.769989    44.652092   167.719940  \n",
       "max      614.549988    66.437309   240.630768  \n",
       "\n",
       "[8 rows x 538 columns]"
      ]
     },
     "execution_count": 3,
     "metadata": {},
     "output_type": "execute_result"
    }
   ],
   "source": [
    "df.describe()  # gives first 7 rows of the table"
   ]
  },
  {
   "cell_type": "markdown",
   "metadata": {},
   "source": [
    "## Part 1.2. Processing Raw Data"
   ]
  },
  {
   "cell_type": "markdown",
   "metadata": {},
   "source": [
    "### Part 1.2.1. Dropping index rows"
   ]
  },
  {
   "cell_type": "markdown",
   "metadata": {},
   "source": [
    "There is several index rows in the table, but as we would like to use only the Adj Close prise (or another single index), we would like to make the table flat for further convenience."
   ]
  },
  {
   "cell_type": "code",
   "execution_count": 4,
   "metadata": {},
   "outputs": [],
   "source": [
    "df.columns = df.columns.droplevel(0)"
   ]
  },
  {
   "cell_type": "markdown",
   "metadata": {},
   "source": [
    "### Part 1.2.2. Dropping Ticker column and saving CSV"
   ]
  },
  {
   "cell_type": "markdown",
   "metadata": {},
   "source": [
    "You may see that Ticker is an ordering column now (the first column on the left side). We will drop this column by using index=False parameter when we will export the dataframe as csv file"
   ]
  },
  {
   "cell_type": "code",
   "execution_count": 5,
   "metadata": {},
   "outputs": [
    {
     "data": {
      "text/plain": [
       "'c:\\\\Users\\\\nikit\\\\Desktop\\\\Personal\\\\pythonLanguage\\\\portfolio_optimization_ml\\\\src\\\\data\\\\historical_data.csv'"
      ]
     },
     "execution_count": 5,
     "metadata": {},
     "output_type": "execute_result"
    }
   ],
   "source": [
    "save_csv(df, 'historical_data.csv')"
   ]
  }
 ],
 "metadata": {
  "kernelspec": {
   "display_name": ".venv",
   "language": "python",
   "name": "python3"
  },
  "language_info": {
   "codemirror_mode": {
    "name": "ipython",
    "version": 3
   },
   "file_extension": ".py",
   "mimetype": "text/x-python",
   "name": "python",
   "nbconvert_exporter": "python",
   "pygments_lexer": "ipython3",
   "version": "3.12.6"
  }
 },
 "nbformat": 4,
 "nbformat_minor": 2
}
